{
 "cells": [
  {
   "cell_type": "code",
   "execution_count": 82,
   "metadata": {},
   "outputs": [],
   "source": [
    "import os\n",
    "import pandas as pd"
   ]
  },
  {
   "cell_type": "code",
   "execution_count": 83,
   "metadata": {},
   "outputs": [],
   "source": [
    "CURR_FOLDER_PATH = os.getcwd()\n",
    "BASE_PATH = os.path.dirname(os.path.dirname(CURR_FOLDER_PATH))\n",
    "DATA_PATH = os.path.join(BASE_PATH, 'Lulus/data')"
   ]
  },
  {
   "cell_type": "code",
   "execution_count": 84,
   "metadata": {},
   "outputs": [],
   "source": [
    "df = pd.read_excel(DATA_PATH + '/datahariandansubtitusi.xlsx')"
   ]
  },
  {
   "cell_type": "code",
   "execution_count": 85,
   "metadata": {},
   "outputs": [
    {
     "data": {
      "text/html": [
       "<div>\n",
       "<style scoped>\n",
       "    .dataframe tbody tr th:only-of-type {\n",
       "        vertical-align: middle;\n",
       "    }\n",
       "\n",
       "    .dataframe tbody tr th {\n",
       "        vertical-align: top;\n",
       "    }\n",
       "\n",
       "    .dataframe thead th {\n",
       "        text-align: right;\n",
       "    }\n",
       "</style>\n",
       "<table border=\"1\" class=\"dataframe\">\n",
       "  <thead>\n",
       "    <tr style=\"text-align: right;\">\n",
       "      <th></th>\n",
       "      <th>Tanggal</th>\n",
       "      <th>Bawang Putih</th>\n",
       "      <th>Bawang Putih Ukuran Sedang</th>\n",
       "      <th>Cabai Merah</th>\n",
       "      <th>Cabai Merah Besar</th>\n",
       "      <th>Cabai Merah Keriting</th>\n",
       "      <th>Cabai Rawit</th>\n",
       "      <th>Cabai Rawit Hijau</th>\n",
       "      <th>Cabai Rawit Merah</th>\n",
       "    </tr>\n",
       "  </thead>\n",
       "  <tbody>\n",
       "    <tr>\n",
       "      <th>0</th>\n",
       "      <td>01/ 01/ 2018</td>\n",
       "      <td>-</td>\n",
       "      <td>-</td>\n",
       "      <td>-</td>\n",
       "      <td>-</td>\n",
       "      <td>-</td>\n",
       "      <td>-</td>\n",
       "      <td>-</td>\n",
       "      <td>-</td>\n",
       "    </tr>\n",
       "    <tr>\n",
       "      <th>1</th>\n",
       "      <td>02/ 01/ 2018</td>\n",
       "      <td>24,450</td>\n",
       "      <td>24,450</td>\n",
       "      <td>38,950</td>\n",
       "      <td>41,400</td>\n",
       "      <td>36,450</td>\n",
       "      <td>40,450</td>\n",
       "      <td>33,900</td>\n",
       "      <td>47,050</td>\n",
       "    </tr>\n",
       "    <tr>\n",
       "      <th>2</th>\n",
       "      <td>03/ 01/ 2018</td>\n",
       "      <td>24,650</td>\n",
       "      <td>24,650</td>\n",
       "      <td>39,050</td>\n",
       "      <td>41,850</td>\n",
       "      <td>36,250</td>\n",
       "      <td>42,250</td>\n",
       "      <td>36,050</td>\n",
       "      <td>48,400</td>\n",
       "    </tr>\n",
       "    <tr>\n",
       "      <th>3</th>\n",
       "      <td>04/ 01/ 2018</td>\n",
       "      <td>24,500</td>\n",
       "      <td>24,500</td>\n",
       "      <td>38,050</td>\n",
       "      <td>40,200</td>\n",
       "      <td>35,900</td>\n",
       "      <td>42,500</td>\n",
       "      <td>36,600</td>\n",
       "      <td>48,400</td>\n",
       "    </tr>\n",
       "    <tr>\n",
       "      <th>4</th>\n",
       "      <td>05/ 01/ 2018</td>\n",
       "      <td>24,400</td>\n",
       "      <td>24,400</td>\n",
       "      <td>37,450</td>\n",
       "      <td>39,200</td>\n",
       "      <td>35,650</td>\n",
       "      <td>42,700</td>\n",
       "      <td>37,150</td>\n",
       "      <td>48,200</td>\n",
       "    </tr>\n",
       "  </tbody>\n",
       "</table>\n",
       "</div>"
      ],
      "text/plain": [
       "        Tanggal Bawang Putih Bawang Putih Ukuran Sedang Cabai Merah  \\\n",
       "0  01/ 01/ 2018            -                          -           -   \n",
       "1  02/ 01/ 2018       24,450                     24,450      38,950   \n",
       "2  03/ 01/ 2018       24,650                     24,650      39,050   \n",
       "3  04/ 01/ 2018       24,500                     24,500      38,050   \n",
       "4  05/ 01/ 2018       24,400                     24,400      37,450   \n",
       "\n",
       "  Cabai Merah Besar Cabai Merah Keriting Cabai Rawit Cabai Rawit Hijau  \\\n",
       "0                 -                    -           -                 -   \n",
       "1            41,400               36,450      40,450            33,900   \n",
       "2            41,850               36,250      42,250            36,050   \n",
       "3            40,200               35,900      42,500            36,600   \n",
       "4            39,200               35,650      42,700            37,150   \n",
       "\n",
       "  Cabai Rawit Merah  \n",
       "0                 -  \n",
       "1            47,050  \n",
       "2            48,400  \n",
       "3            48,400  \n",
       "4            48,200  "
      ]
     },
     "execution_count": 85,
     "metadata": {},
     "output_type": "execute_result"
    }
   ],
   "source": [
    "df.head()"
   ]
  },
  {
   "cell_type": "code",
   "execution_count": 86,
   "metadata": {},
   "outputs": [
    {
     "data": {
      "text/plain": [
       "Index(['Tanggal', 'Bawang Putih', 'Bawang Putih Ukuran Sedang', 'Cabai Merah',\n",
       "       'Cabai Merah Besar', 'Cabai Merah Keriting', 'Cabai Rawit',\n",
       "       'Cabai Rawit Hijau', 'Cabai Rawit Merah'],\n",
       "      dtype='object')"
      ]
     },
     "execution_count": 86,
     "metadata": {},
     "output_type": "execute_result"
    }
   ],
   "source": [
    "df.columns"
   ]
  },
  {
   "cell_type": "code",
   "execution_count": 87,
   "metadata": {},
   "outputs": [
    {
     "name": "stdout",
     "output_type": "stream",
     "text": [
      "<class 'pandas.core.frame.DataFrame'>\n",
      "RangeIndex: 1565 entries, 0 to 1564\n",
      "Data columns (total 9 columns):\n",
      " #   Column                      Non-Null Count  Dtype \n",
      "---  ------                      --------------  ----- \n",
      " 0   Tanggal                     1565 non-null   object\n",
      " 1   Bawang Putih                1565 non-null   object\n",
      " 2   Bawang Putih Ukuran Sedang  1565 non-null   object\n",
      " 3   Cabai Merah                 1565 non-null   object\n",
      " 4   Cabai Merah Besar           1565 non-null   object\n",
      " 5   Cabai Merah Keriting        1565 non-null   object\n",
      " 6   Cabai Rawit                 1565 non-null   object\n",
      " 7   Cabai Rawit Hijau           1565 non-null   object\n",
      " 8   Cabai Rawit Merah           1565 non-null   object\n",
      "dtypes: object(9)\n",
      "memory usage: 110.2+ KB\n"
     ]
    }
   ],
   "source": [
    "df.info()"
   ]
  },
  {
   "cell_type": "code",
   "execution_count": 88,
   "metadata": {},
   "outputs": [],
   "source": [
    "df=df.rename(columns={'Bawang Putih': 'Harga Bawang Putih','Cabai Merah': 'Harga Cabai Merah', 'Cabai Rawit':\"Harga Cabai Rawit\"})"
   ]
  },
  {
   "cell_type": "code",
   "execution_count": 89,
   "metadata": {},
   "outputs": [],
   "source": [
    "df=df[['Tanggal','Harga Bawang Putih','Harga Cabai Merah','Harga Cabai Rawit']]"
   ]
  },
  {
   "cell_type": "code",
   "execution_count": 90,
   "metadata": {},
   "outputs": [],
   "source": [
    "df['Tanggal'] = pd.to_datetime(df['Tanggal'])"
   ]
  },
  {
   "cell_type": "code",
   "execution_count": 91,
   "metadata": {},
   "outputs": [],
   "source": [
    "df.replace('-', '', inplace=True)"
   ]
  },
  {
   "cell_type": "code",
   "execution_count": 92,
   "metadata": {},
   "outputs": [
    {
     "data": {
      "text/plain": [
       "Tanggal               0\n",
       "Harga Bawang Putih    0\n",
       "Harga Cabai Merah     0\n",
       "Harga Cabai Rawit     0\n",
       "dtype: int64"
      ]
     },
     "execution_count": 92,
     "metadata": {},
     "output_type": "execute_result"
    }
   ],
   "source": [
    "df.isnull().sum()"
   ]
  },
  {
   "cell_type": "code",
   "execution_count": null,
   "metadata": {},
   "outputs": [],
   "source": []
  }
 ],
 "metadata": {
  "kernelspec": {
   "display_name": "base",
   "language": "python",
   "name": "python3"
  },
  "language_info": {
   "codemirror_mode": {
    "name": "ipython",
    "version": 3
   },
   "file_extension": ".py",
   "mimetype": "text/x-python",
   "name": "python",
   "nbconvert_exporter": "python",
   "pygments_lexer": "ipython3",
   "version": "3.8.16"
  }
 },
 "nbformat": 4,
 "nbformat_minor": 2
}
